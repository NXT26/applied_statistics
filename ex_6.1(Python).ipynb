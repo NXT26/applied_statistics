{
 "cells": [
  {
   "cell_type": "code",
   "execution_count": 1,
   "id": "9c415bb6",
   "metadata": {},
   "outputs": [
    {
     "name": "stdout",
     "output_type": "stream",
     "text": [
      "[ 10 355  66  28  76  34 198   5  12 146   6 149   1  96 170 228 423  69\n",
      "  44 201  51 103   3 165  56  82 151  52 238 105 130]\n",
      "111.38709677419355\n"
     ]
    }
   ],
   "source": [
    "import numpy as np \n",
    "\n",
    "np.random.seed(55) #задание random seed\n",
    "sample = np.random.geometric(0.01, 31) #генерация выборки\n",
    "print(sample) #вывод выборки на печать\n",
    "print(sum(sample)/len(sample)) #вывод выборочного среднего\n",
    "\n",
    "# Для выборки из распределения Бернулли  объема  строчку с  нужно заменить на \n",
    "# sample = np.random.binomial(1, p, volume)\n",
    "\n",
    "# Для выборки из биномиального распределения  объема  строчку с  нужно заменить на \n",
    "# sample = np.random.binomial(n, p, volume) \n",
    "\n",
    "# Для выборки из геометрического распределения  объема  строчку с  нужно заменить на\n",
    "# sample = np.random.geometric(p, volume) \n",
    "\n",
    "# Для выборки из распределения Пуассона  объема  строчку с  нужно заменить на\n",
    "# sample = np.random.poisson(lambda, volume) \n",
    "\n",
    "# Для выборки из равномерного распределения  объема  строчку с  нужно заменить на\n",
    "# sample = np.random.uniform(a, b, volume) \n",
    "\n",
    "# Для выборки из показательного распределения  объема  строчку с  нужно заменить на\n",
    "# sample = np.random.exponential(1/lambda, volume) \n",
    "\n",
    "# Для выборки из нормального распределения  объема  строчку с  нужно заменить на\n",
    "# sample = np.random.normal(a, sigma, volume) \n",
    "\n",
    "# Например, результат программы:\n",
    "# import numpy as np\n",
    "\n",
    "# np.random.seed(10) #задание random seed\n",
    "# sample = np.random.uniform(2, 4, 7) #генерация выборки \n",
    "# print(sample) #вывод выборки на печать\n",
    "# print(sum(sample)/len(sample)) #вывод выборочного среднего\n",
    "\n",
    "# выдает выборку объема  из равномерного распределения  и выборочное среднее , примерно равное :\n",
    "# [3.54264129 2.0415039 3.26729647 3.49760777 2.99701402 2.44959329 2.39612573] \n",
    "# 2.8845403522"
   ]
  }
 ],
 "metadata": {
  "kernelspec": {
   "display_name": "Python 3 (ipykernel)",
   "language": "python",
   "name": "python3"
  },
  "language_info": {
   "codemirror_mode": {
    "name": "ipython",
    "version": 3
   },
   "file_extension": ".py",
   "mimetype": "text/x-python",
   "name": "python",
   "nbconvert_exporter": "python",
   "pygments_lexer": "ipython3",
   "version": "3.10.0rc1"
  }
 },
 "nbformat": 4,
 "nbformat_minor": 5
}
